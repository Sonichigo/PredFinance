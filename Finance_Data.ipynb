{
 "cells": [
  {
   "cell_type": "code",
   "execution_count": 1,
   "id": "afc6ca90",
   "metadata": {},
   "outputs": [
    {
     "name": "stdout",
     "output_type": "stream",
     "text": [
      "Normal Data\n",
      "         age  Mutual_Funds  Equity_Market  Debentures  Government_Bonds  \\\n",
      "0   0.928571      0.000000            0.2    0.666667          0.333333   \n",
      "1   0.142857      0.500000            0.4    0.166667          0.000000   \n",
      "2   0.642857      0.333333            1.0    0.500000          0.166667   \n",
      "3   0.071429      0.166667            0.0    0.333333          1.000000   \n",
      "4   0.214286      0.166667            0.0    0.333333          0.833333   \n",
      "5   0.214286      1.000000            0.8    0.500000          0.833333   \n",
      "6   0.428571      0.333333            1.0    0.500000          0.166667   \n",
      "7   0.000000      0.166667            0.4    1.000000          0.500000   \n",
      "8   1.000000      0.166667            0.6    1.000000          0.666667   \n",
      "9   0.714286      0.000000            0.4    1.000000          0.500000   \n",
      "10  1.000000      0.166667            0.6    1.000000          0.666667   \n",
      "11  0.571429      0.166667            0.8    1.000000          0.833333   \n",
      "12  0.000000      0.000000            0.2    0.333333          0.500000   \n",
      "13  0.500000      0.166667            0.4    1.000000          0.500000   \n",
      "14  0.285714      0.166667            0.4    1.000000          0.666667   \n",
      "15  0.428571      0.166667            0.4    1.000000          0.666667   \n",
      "16  0.500000      0.333333            0.2    1.000000          0.666667   \n",
      "17  0.428571      0.333333            0.2    1.000000          0.500000   \n",
      "18  0.571429      0.333333            0.2    1.000000          0.500000   \n",
      "19  0.357143      0.333333            0.6    0.833333          0.666667   \n",
      "20  0.571429      0.166667            0.6    1.000000          0.666667   \n",
      "21  0.214286      0.166667            0.6    0.666667          0.833333   \n",
      "22  0.428571      0.333333            0.6    0.833333          0.666667   \n",
      "23  0.285714      0.166667            0.6    0.833333          0.666667   \n",
      "24  0.357143      0.166667            0.4    1.000000          0.666667   \n",
      "25  0.785714      0.333333            0.6    1.000000          0.666667   \n",
      "26  0.357143      0.333333            0.6    0.833333          0.666667   \n",
      "27  0.714286      0.166667            0.4    1.000000          0.833333   \n",
      "28  0.571429      0.166667            0.4    0.833333          0.666667   \n",
      "29  0.928571      0.666667            0.6    0.333333          0.166667   \n",
      "30  0.428571      0.500000            0.8    0.000000          0.166667   \n",
      "31  0.714286      0.166667            0.6    1.000000          0.833333   \n",
      "32  0.428571      0.166667            0.6    1.000000          0.666667   \n",
      "33  0.357143      0.166667            0.4    0.833333          0.500000   \n",
      "34  0.428571      0.166667            0.4    0.833333          0.666667   \n",
      "35  0.642857      0.000000            0.6    0.833333          0.666667   \n",
      "36  0.642857      0.166667            0.6    1.000000          0.666667   \n",
      "37  0.285714      0.666667            0.6    1.000000          0.833333   \n",
      "38  0.714286      0.166667            0.6    1.000000          0.666667   \n",
      "39  0.571429      0.500000            0.4    0.666667          1.000000   \n",
      "\n",
      "    Fixed_Deposits  PPF  Gold  \n",
      "0         1.000000  1.0   0.4  \n",
      "1         0.666667  1.0   1.0  \n",
      "2         0.666667  0.0   1.0  \n",
      "3         0.833333  0.6   0.6  \n",
      "4         0.500000  0.8   1.0  \n",
      "5         0.333333  0.0   0.0  \n",
      "6         0.666667  0.0   1.0  \n",
      "7         0.833333  0.0   0.6  \n",
      "8         0.333333  0.0   0.8  \n",
      "9         0.666667  0.2   0.8  \n",
      "10        0.333333  0.0   0.8  \n",
      "11        0.333333  0.0   0.4  \n",
      "12        0.666667  1.0   1.0  \n",
      "13        0.666667  0.0   0.8  \n",
      "14        0.500000  0.0   0.8  \n",
      "15        0.500000  0.0   0.8  \n",
      "16        0.500000  0.0   0.8  \n",
      "17        0.666667  0.0   0.8  \n",
      "18        0.666667  0.0   0.8  \n",
      "19        0.000000  0.2   1.0  \n",
      "20        0.333333  0.0   0.8  \n",
      "21        0.333333  0.0   1.0  \n",
      "22        0.166667  0.0   1.0  \n",
      "23        0.333333  0.0   1.0  \n",
      "24        0.500000  0.0   0.8  \n",
      "25        0.000000  0.2   0.8  \n",
      "26        0.000000  0.2   1.0  \n",
      "27        0.500000  0.0   0.6  \n",
      "28        0.000000  0.6   1.0  \n",
      "29        1.000000  0.0   0.8  \n",
      "30        1.000000  0.4   0.8  \n",
      "31        0.333333  0.0   0.6  \n",
      "32        0.000000  0.4   0.8  \n",
      "33        0.000000  0.8   1.0  \n",
      "34        0.500000  0.0   1.0  \n",
      "35        0.333333  0.2   1.0  \n",
      "36        0.000000  0.4   0.8  \n",
      "37        0.000000  0.2   0.2  \n",
      "38        0.333333  0.0   0.8  \n",
      "39        0.166667  0.0   0.8  \n"
     ]
    }
   ],
   "source": [
    "import numpy as np\n",
    "import matplotlib.pyplot as plt \n",
    "import pandas as pd\n",
    "import seaborn as sns\n",
    "from sklearn.preprocessing import MinMaxScaler\n",
    "from sklearn.model_selection import train_test_split\n",
    "from sklearn.linear_model import LinearRegression\n",
    "from sklearn.preprocessing import PolynomialFeatures\n",
    "from sklearn.metrics import mean_squared_error, r2_score\n",
    "from sklearn.linear_model import LogisticRegression\n",
    "import seaborn as sns\n",
    "from sklearn import metrics\n",
    "import pickle\n",
    "\n",
    "plt.rcParams['figure.figsize'] = (12.0, 9.0)\n",
    "df1 = pd.read_csv('C:\\\\Users\\\\KIIT\\\\Downloads\\\\Finance_data.csv')\n",
    "df1.describe()\n",
    "\n",
    "scaler = MinMaxScaler()\n",
    "df_norm = pd.DataFrame(scaler.fit_transform(df1), columns=df1.columns)\n",
    "print(\"Normal Data\")\n",
    "print(df_norm)"
   ]
  },
  {
   "cell_type": "code",
   "execution_count": 2,
   "id": "1f0cbe06",
   "metadata": {},
   "outputs": [
    {
     "data": {
      "text/plain": [
       "age                 0\n",
       "Mutual_Funds        0\n",
       "Equity_Market       0\n",
       "Debentures          0\n",
       "Government_Bonds    0\n",
       "Fixed_Deposits      0\n",
       "PPF                 0\n",
       "Gold                0\n",
       "dtype: int64"
      ]
     },
     "execution_count": 2,
     "metadata": {},
     "output_type": "execute_result"
    }
   ],
   "source": [
    "df_norm.isnull().sum()"
   ]
  },
  {
   "cell_type": "code",
   "execution_count": 3,
   "id": "18a195a5",
   "metadata": {},
   "outputs": [
    {
     "name": "stdout",
     "output_type": "stream",
     "text": [
      "[0.92857143 0.14285714 0.64285714 0.07142857 0.21428571 0.21428571\n",
      " 0.42857143 0.         1.         0.71428571 1.         0.57142857\n",
      " 0.         0.5        0.28571429 0.42857143 0.5        0.42857143\n",
      " 0.57142857 0.35714286 0.57142857 0.21428571 0.42857143 0.28571429\n",
      " 0.35714286 0.78571429 0.35714286 0.71428571 0.57142857 0.92857143\n",
      " 0.42857143 0.71428571 0.42857143 0.35714286 0.42857143 0.64285714\n",
      " 0.64285714 0.28571429 0.71428571 0.57142857]\n"
     ]
    },
    {
     "data": {
      "image/png": "[encoded data removed]",
      "text/plain": [
       "<Figure size 864x648 with 1 Axes>"
      ]
     },
     "metadata": {
      "needs_background": "light"
     },
     "output_type": "display_data"
    },
    {
     "name": "stdout",
     "output_type": "stream",
     "text": [
      "RMSE : 0.24150323424406295 R2_SCORE:  0.03590035818951487\n"
     ]
    },
    {
     "ename": "NameError",
     "evalue": "name 'model' is not defined",
     "output_type": "error",
     "traceback": [
      "\u001b[1;31m---------------------------------------------------------------------------\u001b[0m",
      "\u001b[1;31mNameError\u001b[0m                                 Traceback (most recent call last)",
      "\u001b[1;32m<ipython-input-3-fdaef0753061>\u001b[0m in \u001b[0;36m<module>\u001b[1;34m\u001b[0m\n\u001b[0;32m     23\u001b[0m \u001b[0mprint\u001b[0m\u001b[1;33m(\u001b[0m\u001b[1;34m'RMSE :'\u001b[0m\u001b[1;33m,\u001b[0m\u001b[0mrmse\u001b[0m\u001b[1;33m,\u001b[0m\u001b[1;34m'R2_SCORE: '\u001b[0m\u001b[1;33m,\u001b[0m\u001b[0mr2\u001b[0m\u001b[1;33m)\u001b[0m\u001b[1;33m\u001b[0m\u001b[1;33m\u001b[0m\u001b[0m\n\u001b[0;32m     24\u001b[0m \u001b[0mpickle\u001b[0m\u001b[1;33m.\u001b[0m\u001b[0mdump\u001b[0m\u001b[1;33m(\u001b[0m\u001b[0mlin_reg\u001b[0m\u001b[1;33m,\u001b[0m \u001b[0mopen\u001b[0m\u001b[1;33m(\u001b[0m\u001b[1;34m'model.pkl'\u001b[0m\u001b[1;33m,\u001b[0m\u001b[1;34m'wb'\u001b[0m\u001b[1;33m)\u001b[0m\u001b[1;33m)\u001b[0m\u001b[1;33m\u001b[0m\u001b[1;33m\u001b[0m\u001b[0m\n\u001b[1;32m---> 25\u001b[1;33m \u001b[0mprint\u001b[0m\u001b[1;33m(\u001b[0m\u001b[0mmodel\u001b[0m\u001b[1;33m.\u001b[0m\u001b[0mpredict\u001b[0m\u001b[1;33m(\u001b[0m\u001b[1;33m[\u001b[0m\u001b[1;33m[\u001b[0m\u001b[1;36m1\u001b[0m\u001b[1;33m]\u001b[0m\u001b[1;33m]\u001b[0m\u001b[1;33m)\u001b[0m\u001b[1;33m)\u001b[0m\u001b[1;33m\u001b[0m\u001b[1;33m\u001b[0m\u001b[0m\n\u001b[0m",
      "\u001b[1;31mNameError\u001b[0m: name 'model' is not defined"
     ]
    }
   ],
   "source": [
    "X = df_norm.iloc[:, 2:3].values\n",
    "Y = df_norm.iloc[:, 0].values \n",
    "print(Y)\n",
    "\n",
    "X_train, X_test, Y_train, Y_test = train_test_split(X, Y, test_size=0.3, random_state=0)\n",
    "\n",
    "lin_reg = LinearRegression()\n",
    "lin_reg.fit(X_train, Y_train)\n",
    "\n",
    "def linear():\n",
    "    plt.scatter(X_test, Y_test, color='black')\n",
    "    plt.plot(X_test, lin_reg.predict(X_test), color='blue')\n",
    "    plt.title('(Linear Regression)')\n",
    "    plt.xlabel('Daceability')\n",
    "    plt.ylabel('Album Release Year')\n",
    "    plt.show()\n",
    "    return\n",
    "linear()\n",
    "\n",
    "y_train_predict = lin_reg.predict(X_train)\n",
    "rmse=(np.sqrt(mean_squared_error(Y_train,y_train_predict)))\n",
    "r2=r2_score(Y_train,y_train_predict)\n",
    "print('RMSE :',rmse,'R2_SCORE: ',r2)\n",
    "pickle.dump(lin_reg, open('model.pkl','wb'))\n",
    "print(model.predict([[1]]))"
   ]
  },
  {
   "cell_type": "code",
   "execution_count": null,
   "id": "d38e8958",
   "metadata": {},
   "outputs": [],
   "source": [
    "degree=4\n",
    "poly_reg = PolynomialFeatures(degree)\n",
    "X_poly = poly_reg.fit_transform(X_train)\n",
    "pol_reg = LinearRegression()\n",
    "pol_reg.fit(X_poly, Y_train)\n",
    "\n",
    "def polymonial():\n",
    "    plt.scatter(X_test, Y_test, color='black')\n",
    "    plt.plot(X_test, pol_reg.predict(poly_reg.fit_transform(X_test)), color='blue')\n",
    "    plt.title('(Polynomial Regression)')\n",
    "    plt.xlabel('Daceability')\n",
    "    plt.ylabel('Album Release Year')\n",
    "    plt.show()\n",
    "    return\n",
    "polymonial()\n",
    "\n",
    "y_train_predict1 = pol_reg.predict(X_poly)\n",
    "rmse1=(np.sqrt(mean_squared_error(Y_train,y_train_predict1)))\n",
    "r2_1=r2_score(Y_train,y_train_predict1)\n",
    "print('RMSE :',rmse1,'R2_SCORE: ',r2_1)"
   ]
  },
  {
   "cell_type": "code",
   "execution_count": null,
   "id": "0c00819e",
   "metadata": {},
   "outputs": [],
   "source": [
    "X = df1.iloc[:, 0:1].values\n",
    "print(X)\n",
    "Y = df1.iloc[:, 1].values \n",
    "X_train, X_test, Y_train, Y_test = train_test_split(X, Y, test_size=0.3, random_state=0)\n",
    "\n",
    "model = LogisticRegression(solver='lbfgs', max_iter=1000)\n",
    "model.fit(X_train, Y_train.astype(int))\n",
    "\n",
    "p_model = model.predict(X_test)\n",
    "score = model.score(X_test, Y_test.astype(int))\n",
    "cm = metrics.confusion_matrix(Y_test.astype(int), p_model)\n",
    "\n",
    "plt.figure(figsize=(9,9))\n",
    "sns.heatmap(cm, annot=True, linewidths=.5, square = True, cmap = 'Blues_r');\n",
    "plt.ylabel('Actual label');\n",
    "plt.xlabel('Predicted label');\n",
    "all_sample_title = 'Accuracy Score: {0}'.format(score)\n",
    "plt.title(all_sample_title, size = 15);\n",
    "\n",
    "y_train_predict2 = model.predict(X_train)\n",
    "rmse2=(np.sqrt(mean_squared_error(Y_train.astype(int),y_train_predict2)))\n",
    "r2_2=r2_score(Y_train.astype(int),y_train_predict2)\n",
    "print('RMSE :',rmse2,'R2_SCORE: ',r2_2)"
   ]
  },
  {
   "cell_type": "code",
   "execution_count": null,
   "id": "6239fd74",
   "metadata": {},
   "outputs": [],
   "source": [
    "sns.pairplot(data=df_norm)"
   ]
  },
  {
   "cell_type": "code",
   "execution_count": null,
   "id": "6e9ad006",
   "metadata": {},
   "outputs": [],
   "source": [
    "def standard_scaling(df):\n",
    "    df_std = df.copy()\n",
    "    for column in df_std.columns:\n",
    "        df_std[column] = (df_std[column] - df_std[column].mean()) / df_std[column].std()\n",
    "    return df_std\n",
    "    \n",
    "df_standardized = standard_scaling(df_norm)\n",
    "\n",
    "corr = df_norm.corr()\n",
    "ax = sns.heatmap(\n",
    "    corr, \n",
    "    vmin=-1, vmax=1, center=0,\n",
    "    cmap=sns.diverging_palette(176, 0, n=7),\n",
    "    square=True,\n",
    "    linewidths=.5\n",
    ")\n",
    "ax.set_xticklabels(\n",
    "    ax.get_xticklabels(),\n",
    "    ha='center',\n",
    "    rotation=45\n",
    ");"
   ]
  }
 ],
 "metadata": {
  "kernelspec": {
   "display_name": "Python 3",
   "language": "python",
   "name": "python3"
  },
  "language_info": {
   "codemirror_mode": {
    "name": "ipython",
    "version": 3
   },
   "file_extension": ".py",
   "mimetype": "text/x-python",
   "name": "python",
   "nbconvert_exporter": "python",
   "pygments_lexer": "ipython3",
   "version": "3.8.8"
  }
 },
 "nbformat": 4,
 "nbformat_minor": 5
}
